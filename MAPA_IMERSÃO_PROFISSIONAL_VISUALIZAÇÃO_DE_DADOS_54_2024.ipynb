{
  "nbformat": 4,
  "nbformat_minor": 0,
  "metadata": {
    "colab": {
      "provenance": [],
      "authorship_tag": "ABX9TyPFh/bz6UDym0/Mhq/xH+gG",
      "include_colab_link": true
    },
    "kernelspec": {
      "name": "python3",
      "display_name": "Python 3"
    },
    "language_info": {
      "name": "python"
    }
  },
  "cells": [
    {
      "cell_type": "markdown",
      "metadata": {
        "id": "view-in-github",
        "colab_type": "text"
      },
      "source": [
        "<a href=\"https://colab.research.google.com/github/jdsala/-IMERS-O-PROFISSIONAL-VISUALIZA-O-DE-DADOS/blob/main/MAPA_IMERS%C3%83O_PROFISSIONAL_VISUALIZA%C3%87%C3%83O_DE_DADOS_54_2024.ipynb\" target=\"_parent\"><img src=\"https://colab.research.google.com/assets/colab-badge.svg\" alt=\"Open In Colab\"/></a>"
      ]
    },
    {
      "cell_type": "code",
      "execution_count": 1,
      "metadata": {
        "id": "4yphef_42xmc"
      },
      "outputs": [],
      "source": [
        "import pandas as pd\n",
        "import matplotlib.pyplot as plt\n",
        "import seaborn as sns"
      ]
    },
    {
      "cell_type": "code",
      "source": [
        "from google.colab import files"
      ],
      "metadata": {
        "id": "mBBV47F93yMs"
      },
      "execution_count": 5,
      "outputs": []
    },
    {
      "cell_type": "code",
      "source": [
        "uploaded = files.upload()"
      ],
      "metadata": {
        "colab": {
          "base_uri": "https://localhost:8080/",
          "height": 142
        },
        "id": "HuiS5TqrqaJy",
        "outputId": "d7c25849-c32f-43d4-e185-305cf3f9d008"
      },
      "execution_count": 6,
      "outputs": [
        {
          "output_type": "display_data",
          "data": {
            "text/plain": [
              "<IPython.core.display.HTML object>"
            ],
            "text/html": [
              "\n",
              "     <input type=\"file\" id=\"files-b31539f4-6c2e-4b7b-ac21-8657d8b55c34\" name=\"files[]\" multiple disabled\n",
              "        style=\"border:none\" />\n",
              "     <output id=\"result-b31539f4-6c2e-4b7b-ac21-8657d8b55c34\">\n",
              "      Upload widget is only available when the cell has been executed in the\n",
              "      current browser session. Please rerun this cell to enable.\n",
              "      </output>\n",
              "      <script>// Copyright 2017 Google LLC\n",
              "//\n",
              "// Licensed under the Apache License, Version 2.0 (the \"License\");\n",
              "// you may not use this file except in compliance with the License.\n",
              "// You may obtain a copy of the License at\n",
              "//\n",
              "//      http://www.apache.org/licenses/LICENSE-2.0\n",
              "//\n",
              "// Unless required by applicable law or agreed to in writing, software\n",
              "// distributed under the License is distributed on an \"AS IS\" BASIS,\n",
              "// WITHOUT WARRANTIES OR CONDITIONS OF ANY KIND, either express or implied.\n",
              "// See the License for the specific language governing permissions and\n",
              "// limitations under the License.\n",
              "\n",
              "/**\n",
              " * @fileoverview Helpers for google.colab Python module.\n",
              " */\n",
              "(function(scope) {\n",
              "function span(text, styleAttributes = {}) {\n",
              "  const element = document.createElement('span');\n",
              "  element.textContent = text;\n",
              "  for (const key of Object.keys(styleAttributes)) {\n",
              "    element.style[key] = styleAttributes[key];\n",
              "  }\n",
              "  return element;\n",
              "}\n",
              "\n",
              "// Max number of bytes which will be uploaded at a time.\n",
              "const MAX_PAYLOAD_SIZE = 100 * 1024;\n",
              "\n",
              "function _uploadFiles(inputId, outputId) {\n",
              "  const steps = uploadFilesStep(inputId, outputId);\n",
              "  const outputElement = document.getElementById(outputId);\n",
              "  // Cache steps on the outputElement to make it available for the next call\n",
              "  // to uploadFilesContinue from Python.\n",
              "  outputElement.steps = steps;\n",
              "\n",
              "  return _uploadFilesContinue(outputId);\n",
              "}\n",
              "\n",
              "// This is roughly an async generator (not supported in the browser yet),\n",
              "// where there are multiple asynchronous steps and the Python side is going\n",
              "// to poll for completion of each step.\n",
              "// This uses a Promise to block the python side on completion of each step,\n",
              "// then passes the result of the previous step as the input to the next step.\n",
              "function _uploadFilesContinue(outputId) {\n",
              "  const outputElement = document.getElementById(outputId);\n",
              "  const steps = outputElement.steps;\n",
              "\n",
              "  const next = steps.next(outputElement.lastPromiseValue);\n",
              "  return Promise.resolve(next.value.promise).then((value) => {\n",
              "    // Cache the last promise value to make it available to the next\n",
              "    // step of the generator.\n",
              "    outputElement.lastPromiseValue = value;\n",
              "    return next.value.response;\n",
              "  });\n",
              "}\n",
              "\n",
              "/**\n",
              " * Generator function which is called between each async step of the upload\n",
              " * process.\n",
              " * @param {string} inputId Element ID of the input file picker element.\n",
              " * @param {string} outputId Element ID of the output display.\n",
              " * @return {!Iterable<!Object>} Iterable of next steps.\n",
              " */\n",
              "function* uploadFilesStep(inputId, outputId) {\n",
              "  const inputElement = document.getElementById(inputId);\n",
              "  inputElement.disabled = false;\n",
              "\n",
              "  const outputElement = document.getElementById(outputId);\n",
              "  outputElement.innerHTML = '';\n",
              "\n",
              "  const pickedPromise = new Promise((resolve) => {\n",
              "    inputElement.addEventListener('change', (e) => {\n",
              "      resolve(e.target.files);\n",
              "    });\n",
              "  });\n",
              "\n",
              "  const cancel = document.createElement('button');\n",
              "  inputElement.parentElement.appendChild(cancel);\n",
              "  cancel.textContent = 'Cancel upload';\n",
              "  const cancelPromise = new Promise((resolve) => {\n",
              "    cancel.onclick = () => {\n",
              "      resolve(null);\n",
              "    };\n",
              "  });\n",
              "\n",
              "  // Wait for the user to pick the files.\n",
              "  const files = yield {\n",
              "    promise: Promise.race([pickedPromise, cancelPromise]),\n",
              "    response: {\n",
              "      action: 'starting',\n",
              "    }\n",
              "  };\n",
              "\n",
              "  cancel.remove();\n",
              "\n",
              "  // Disable the input element since further picks are not allowed.\n",
              "  inputElement.disabled = true;\n",
              "\n",
              "  if (!files) {\n",
              "    return {\n",
              "      response: {\n",
              "        action: 'complete',\n",
              "      }\n",
              "    };\n",
              "  }\n",
              "\n",
              "  for (const file of files) {\n",
              "    const li = document.createElement('li');\n",
              "    li.append(span(file.name, {fontWeight: 'bold'}));\n",
              "    li.append(span(\n",
              "        `(${file.type || 'n/a'}) - ${file.size} bytes, ` +\n",
              "        `last modified: ${\n",
              "            file.lastModifiedDate ? file.lastModifiedDate.toLocaleDateString() :\n",
              "                                    'n/a'} - `));\n",
              "    const percent = span('0% done');\n",
              "    li.appendChild(percent);\n",
              "\n",
              "    outputElement.appendChild(li);\n",
              "\n",
              "    const fileDataPromise = new Promise((resolve) => {\n",
              "      const reader = new FileReader();\n",
              "      reader.onload = (e) => {\n",
              "        resolve(e.target.result);\n",
              "      };\n",
              "      reader.readAsArrayBuffer(file);\n",
              "    });\n",
              "    // Wait for the data to be ready.\n",
              "    let fileData = yield {\n",
              "      promise: fileDataPromise,\n",
              "      response: {\n",
              "        action: 'continue',\n",
              "      }\n",
              "    };\n",
              "\n",
              "    // Use a chunked sending to avoid message size limits. See b/62115660.\n",
              "    let position = 0;\n",
              "    do {\n",
              "      const length = Math.min(fileData.byteLength - position, MAX_PAYLOAD_SIZE);\n",
              "      const chunk = new Uint8Array(fileData, position, length);\n",
              "      position += length;\n",
              "\n",
              "      const base64 = btoa(String.fromCharCode.apply(null, chunk));\n",
              "      yield {\n",
              "        response: {\n",
              "          action: 'append',\n",
              "          file: file.name,\n",
              "          data: base64,\n",
              "        },\n",
              "      };\n",
              "\n",
              "      let percentDone = fileData.byteLength === 0 ?\n",
              "          100 :\n",
              "          Math.round((position / fileData.byteLength) * 100);\n",
              "      percent.textContent = `${percentDone}% done`;\n",
              "\n",
              "    } while (position < fileData.byteLength);\n",
              "  }\n",
              "\n",
              "  // All done.\n",
              "  yield {\n",
              "    response: {\n",
              "      action: 'complete',\n",
              "    }\n",
              "  };\n",
              "}\n",
              "\n",
              "scope.google = scope.google || {};\n",
              "scope.google.colab = scope.google.colab || {};\n",
              "scope.google.colab._files = {\n",
              "  _uploadFiles,\n",
              "  _uploadFilesContinue,\n",
              "};\n",
              "})(self);\n",
              "</script> "
            ]
          },
          "metadata": {}
        },
        {
          "output_type": "stream",
          "name": "stdout",
          "text": [
            "Saving WorldCupMatches.csv to WorldCupMatches.csv\n",
            "Saving WorldCupPlayers.csv to WorldCupPlayers.csv\n",
            "Saving WorldCups.csv to WorldCups.csv\n"
          ]
        }
      ]
    },
    {
      "cell_type": "code",
      "source": [
        "# Carregar os datasets\n",
        "world_cup_matches = pd.read_csv('WorldCupMatches.csv')\n",
        "world_cup_players = pd.read_csv('WorldCupPlayers.csv')\n",
        "world_cups = pd.read_csv('WorldCups.csv')\n"
      ],
      "metadata": {
        "id": "13KpGg5QBS5T"
      },
      "execution_count": 7,
      "outputs": []
    },
    {
      "cell_type": "markdown",
      "source": [
        "# **#Importando arquivos CSV**"
      ],
      "metadata": {
        "id": "zlfrhLwO4KFc"
      }
    },
    {
      "cell_type": "markdown",
      "source": [
        "#**1**. Realize a verificação de valores ausentes nos datasets e descreva o tratamento aplicado. Qual foi a abordagem adotada para lidar com os valores ausentes em cada dataset?"
      ],
      "metadata": {
        "id": "-g8Q80tL6wH0"
      }
    },
    {
      "cell_type": "code",
      "source": [
        "# Verificar valores ausentes\n",
        "print(\"Valores ausentes em WorldCupMatches:\")\n",
        "print(world_cup_matches.isnull().sum())\n",
        "\n",
        "print(\"\\nValores ausentes em WorldCupPlayers:\")\n",
        "print(world_cup_players.isnull().sum())\n",
        "\n",
        "print(\"\\nValores ausentes em WorldCups:\")\n",
        "print(world_cups.isnull().sum())"
      ],
      "metadata": {
        "colab": {
          "base_uri": "https://localhost:8080/"
        },
        "id": "oVStDngS4RWy",
        "outputId": "864d15ac-1ebd-44ee-fb69-370dfd40d441"
      },
      "execution_count": 8,
      "outputs": [
        {
          "output_type": "stream",
          "name": "stdout",
          "text": [
            "Valores ausentes em WorldCupMatches:\n",
            "Year                    3720\n",
            "Datetime                3720\n",
            "Stage                   3720\n",
            "Stadium                 3720\n",
            "City                    3720\n",
            "Home Team Name          3720\n",
            "Home Team Goals         3720\n",
            "Away Team Goals         3720\n",
            "Away Team Name          3720\n",
            "Win conditions          3720\n",
            "Attendance              3722\n",
            "Half-time Home Goals    3720\n",
            "Half-time Away Goals    3720\n",
            "Referee                 3720\n",
            "Assistant 1             3720\n",
            "Assistant 2             3720\n",
            "RoundID                 3720\n",
            "MatchID                 3720\n",
            "Home Team Initials      3720\n",
            "Away Team Initials      3720\n",
            "dtype: int64\n",
            "\n",
            "Valores ausentes em WorldCupPlayers:\n",
            "RoundID              0\n",
            "MatchID              0\n",
            "Team Initials        0\n",
            "Coach Name           0\n",
            "Line-up              0\n",
            "Shirt Number         0\n",
            "Player Name          0\n",
            "Position         33641\n",
            "Event            28715\n",
            "dtype: int64\n",
            "\n",
            "Valores ausentes em WorldCups:\n",
            "Year              0\n",
            "Country           0\n",
            "Winner            0\n",
            "Runners-Up        0\n",
            "Third             0\n",
            "Fourth            0\n",
            "GoalsScored       0\n",
            "QualifiedTeams    0\n",
            "MatchesPlayed     0\n",
            "Attendance        0\n",
            "dtype: int64\n"
          ]
        }
      ]
    },
    {
      "cell_type": "markdown",
      "source": [
        "A abordagem adotada combina substituição por valores médios, zeros ou categorias mais frequentes, dependendo da natureza dos dados. Assim, os valores ausentes são tratados de maneira a minimizar distorções nos dados e garantir análises precisas."
      ],
      "metadata": {
        "id": "FRL58g0drrco"
      }
    },
    {
      "cell_type": "code",
      "source": [
        "world_cup_matches['Attendance'] = world_cup_matches['Attendance'].fillna(0)"
      ],
      "metadata": {
        "id": "zQh2WU5nquSX"
      },
      "execution_count": 14,
      "outputs": []
    },
    {
      "cell_type": "code",
      "source": [
        "world_cup_players['Event'] = world_cup_players['Event'].fillna('No Event')\n",
        "world_cup_players['Position'] = world_cup_players['Position'].fillna(world_cup_players['Position'].mode()[0])\n",
        "world_cups['GoalsScored'] = world_cups['GoalsScored'].fillna(world_cups['GoalsScored'].mean())"
      ],
      "metadata": {
        "id": "RUBqZh32rGhg"
      },
      "execution_count": 20,
      "outputs": []
    },
    {
      "cell_type": "markdown",
      "source": [
        "#2. Com base no dataset pré-processado, responda as seguintes questões por meio da análise dos dados:"
      ],
      "metadata": {
        "id": "1XzN1Avs6ptv"
      }
    },
    {
      "cell_type": "markdown",
      "source": [
        "### a - São apresentados jogos em qual período do tempo?"
      ],
      "metadata": {
        "id": "TNS1toXX9oU3"
      }
    },
    {
      "cell_type": "code",
      "source": [
        "# Extrair o período de tempo das partidas\n",
        "periodo_inicial = world_cup_matches['Year'].min()\n",
        "periodo_final = world_cup_matches['Year'].max()\n",
        "print(f\"Período de tempo das partidas: {periodo_inicial} - {periodo_final}\")"
      ],
      "metadata": {
        "colab": {
          "base_uri": "https://localhost:8080/"
        },
        "id": "aUX3qWZf6CqS",
        "outputId": "6fd8488e-5c3b-4cd2-b89b-b9df1741c8b6"
      },
      "execution_count": 23,
      "outputs": [
        {
          "output_type": "stream",
          "name": "stdout",
          "text": [
            "Período de tempo das partidas: 1930.0 - 2014.0\n"
          ]
        }
      ]
    },
    {
      "cell_type": "markdown",
      "source": [
        "b - Quais são os 5 jogadores que mais marcaram gols em partidas na história da copa do mundo? E qual jogador brasileiro? (Apresente nome, país, ano da copa e número de gols)"
      ],
      "metadata": {
        "id": "D4xjpx289jLP"
      }
    },
    {
      "cell_type": "code",
      "source": [
        " # Filtrando os eventos de gol\n",
        "goal_events = world_cup_players[world_cup_players['Event'].str.contains('G', na=False)]\n",
        "goal_counts = goal_events['Player Name'].value_counts().reset_index()\n",
        "print(\"Top 5 jogadores com mais gols:\")\n",
        "goal_counts.columns = ['Player Name', 'Goals']\n",
        "\n",
        "# Obtendo os 5 jogadores com mais gols\n",
        "top_scorers = goal_counts.head(5)\n",
        "\n",
        "# Exibindo os 5 jogadores que mais marcaram gols\n",
        "print(top_scorers)"
      ],
      "metadata": {
        "colab": {
          "base_uri": "https://localhost:8080/"
        },
        "id": "Zr6U9uFFFahj",
        "outputId": "8f52627a-7900-4d72-eb50-637cc921d2e4"
      },
      "execution_count": 34,
      "outputs": [
        {
          "output_type": "stream",
          "name": "stdout",
          "text": [
            "Top 5 jogadores com mais gols:\n",
            "    Player Name  Goals\n",
            "0       RONALDO     13\n",
            "1         KLOSE     12\n",
            "2  Gerd MUELLER      9\n",
            "3    Uwe SEELER      9\n",
            "4        M�LLER      9\n"
          ]
        }
      ]
    },
    {
      "cell_type": "code",
      "source": [
        "# Criando um dicionário de anos de Copa do Mundo\n",
        "world_cup_years = {1930: [1, 2], 1934: [3, 4], 1938: [5, 6], 1950: [7, 8], 1954: [9, 10], 1958: [11, 12], 1962: [13, 14], 1966: [15, 16], 1970: [17, 18], 1974: [19, 20], 1978: [21, 22], 1982: [23, 24], 1986: [25, 26], 1990: [27, 28], 1994: [29, 30], 1998: [31, 32], 2002: [33, 34], 2006: [35, 36], 2010: [37, 38], 2014: [39, 40], 2018: [41, 42]}\n",
        "\n",
        "# Exemplo de mapeamento (isso deve ser ajustado conforme os dados reais)\n",
        "world_cup_players['Year'] = world_cup_players['MatchID'].apply(lambda x: 1930 + (x // 100))  # Exemplo simplificado\n",
        "\n",
        "# Filtrando os jogadores brasileiros e seus anos e gols\n",
        "brazilian_scorers_with_years = world_cup_players[world_cup_players['Player Name'].str.contains('RONALDO|RIVALDO|ZICO|NEYMAR', na=False)][['Player Name', 'Year', 'Event']]\n",
        "\n",
        "# Contando os gols por jogador e ano\n",
        "brazilian_gol_counts = brazilian_scorers_with_years.groupby(['Player Name', 'Year']).size().reset_index(name='Goals')\n",
        "\n",
        "# Exibindo os resultados\n",
        "brazilian_gol_counts"
      ],
      "metadata": {
        "colab": {
          "base_uri": "https://localhost:8080/",
          "height": 677
        },
        "id": "_YK8EcILGmnd",
        "outputId": "87c49caf-91c0-422d-8970-999e7b26198d"
      },
      "execution_count": 32,
      "outputs": [
        {
          "output_type": "execute_result",
          "data": {
            "text/plain": [
              "   Player Name     Year  Goals\n",
              "0    C.RONALDO   976030      7\n",
              "1    NEYMAR JR  3003794      8\n",
              "2    NEYMAR JR  3003795      3\n",
              "3      RIVALDO     1970      1\n",
              "4      RIVALDO     2017      6\n",
              "5      RIVALDO   441430      7\n",
              "6      RONALDO     1960      6\n",
              "7      RONALDO     1961      1\n",
              "8      RONALDO     1970      1\n",
              "9      RONALDO     2017      6\n",
              "10     RONALDO   441430      7\n",
              "11     RONALDO   976030      5\n",
              "12     RONALDO  3002544      3\n",
              "13     RONALDO  3003041      1\n",
              "14     RONALDO  3003794      3\n",
              "15        ZICO     1933      1\n",
              "16        ZICO     1934      4\n",
              "17        ZICO     1937      5\n",
              "18        ZICO     1951      1\n",
              "19        ZICO     1952      6"
            ],
            "text/html": [
              "\n",
              "  <div id=\"df-173f13b4-b4f9-4050-8411-7192cbe44c4e\" class=\"colab-df-container\">\n",
              "    <div>\n",
              "<style scoped>\n",
              "    .dataframe tbody tr th:only-of-type {\n",
              "        vertical-align: middle;\n",
              "    }\n",
              "\n",
              "    .dataframe tbody tr th {\n",
              "        vertical-align: top;\n",
              "    }\n",
              "\n",
              "    .dataframe thead th {\n",
              "        text-align: right;\n",
              "    }\n",
              "</style>\n",
              "<table border=\"1\" class=\"dataframe\">\n",
              "  <thead>\n",
              "    <tr style=\"text-align: right;\">\n",
              "      <th></th>\n",
              "      <th>Player Name</th>\n",
              "      <th>Year</th>\n",
              "      <th>Goals</th>\n",
              "    </tr>\n",
              "  </thead>\n",
              "  <tbody>\n",
              "    <tr>\n",
              "      <th>0</th>\n",
              "      <td>C.RONALDO</td>\n",
              "      <td>976030</td>\n",
              "      <td>7</td>\n",
              "    </tr>\n",
              "    <tr>\n",
              "      <th>1</th>\n",
              "      <td>NEYMAR JR</td>\n",
              "      <td>3003794</td>\n",
              "      <td>8</td>\n",
              "    </tr>\n",
              "    <tr>\n",
              "      <th>2</th>\n",
              "      <td>NEYMAR JR</td>\n",
              "      <td>3003795</td>\n",
              "      <td>3</td>\n",
              "    </tr>\n",
              "    <tr>\n",
              "      <th>3</th>\n",
              "      <td>RIVALDO</td>\n",
              "      <td>1970</td>\n",
              "      <td>1</td>\n",
              "    </tr>\n",
              "    <tr>\n",
              "      <th>4</th>\n",
              "      <td>RIVALDO</td>\n",
              "      <td>2017</td>\n",
              "      <td>6</td>\n",
              "    </tr>\n",
              "    <tr>\n",
              "      <th>5</th>\n",
              "      <td>RIVALDO</td>\n",
              "      <td>441430</td>\n",
              "      <td>7</td>\n",
              "    </tr>\n",
              "    <tr>\n",
              "      <th>6</th>\n",
              "      <td>RONALDO</td>\n",
              "      <td>1960</td>\n",
              "      <td>6</td>\n",
              "    </tr>\n",
              "    <tr>\n",
              "      <th>7</th>\n",
              "      <td>RONALDO</td>\n",
              "      <td>1961</td>\n",
              "      <td>1</td>\n",
              "    </tr>\n",
              "    <tr>\n",
              "      <th>8</th>\n",
              "      <td>RONALDO</td>\n",
              "      <td>1970</td>\n",
              "      <td>1</td>\n",
              "    </tr>\n",
              "    <tr>\n",
              "      <th>9</th>\n",
              "      <td>RONALDO</td>\n",
              "      <td>2017</td>\n",
              "      <td>6</td>\n",
              "    </tr>\n",
              "    <tr>\n",
              "      <th>10</th>\n",
              "      <td>RONALDO</td>\n",
              "      <td>441430</td>\n",
              "      <td>7</td>\n",
              "    </tr>\n",
              "    <tr>\n",
              "      <th>11</th>\n",
              "      <td>RONALDO</td>\n",
              "      <td>976030</td>\n",
              "      <td>5</td>\n",
              "    </tr>\n",
              "    <tr>\n",
              "      <th>12</th>\n",
              "      <td>RONALDO</td>\n",
              "      <td>3002544</td>\n",
              "      <td>3</td>\n",
              "    </tr>\n",
              "    <tr>\n",
              "      <th>13</th>\n",
              "      <td>RONALDO</td>\n",
              "      <td>3003041</td>\n",
              "      <td>1</td>\n",
              "    </tr>\n",
              "    <tr>\n",
              "      <th>14</th>\n",
              "      <td>RONALDO</td>\n",
              "      <td>3003794</td>\n",
              "      <td>3</td>\n",
              "    </tr>\n",
              "    <tr>\n",
              "      <th>15</th>\n",
              "      <td>ZICO</td>\n",
              "      <td>1933</td>\n",
              "      <td>1</td>\n",
              "    </tr>\n",
              "    <tr>\n",
              "      <th>16</th>\n",
              "      <td>ZICO</td>\n",
              "      <td>1934</td>\n",
              "      <td>4</td>\n",
              "    </tr>\n",
              "    <tr>\n",
              "      <th>17</th>\n",
              "      <td>ZICO</td>\n",
              "      <td>1937</td>\n",
              "      <td>5</td>\n",
              "    </tr>\n",
              "    <tr>\n",
              "      <th>18</th>\n",
              "      <td>ZICO</td>\n",
              "      <td>1951</td>\n",
              "      <td>1</td>\n",
              "    </tr>\n",
              "    <tr>\n",
              "      <th>19</th>\n",
              "      <td>ZICO</td>\n",
              "      <td>1952</td>\n",
              "      <td>6</td>\n",
              "    </tr>\n",
              "  </tbody>\n",
              "</table>\n",
              "</div>\n",
              "    <div class=\"colab-df-buttons\">\n",
              "\n",
              "  <div class=\"colab-df-container\">\n",
              "    <button class=\"colab-df-convert\" onclick=\"convertToInteractive('df-173f13b4-b4f9-4050-8411-7192cbe44c4e')\"\n",
              "            title=\"Convert this dataframe to an interactive table.\"\n",
              "            style=\"display:none;\">\n",
              "\n",
              "  <svg xmlns=\"http://www.w3.org/2000/svg\" height=\"24px\" viewBox=\"0 -960 960 960\">\n",
              "    <path d=\"M120-120v-720h720v720H120Zm60-500h600v-160H180v160Zm220 220h160v-160H400v160Zm0 220h160v-160H400v160ZM180-400h160v-160H180v160Zm440 0h160v-160H620v160ZM180-180h160v-160H180v160Zm440 0h160v-160H620v160Z\"/>\n",
              "  </svg>\n",
              "    </button>\n",
              "\n",
              "  <style>\n",
              "    .colab-df-container {\n",
              "      display:flex;\n",
              "      gap: 12px;\n",
              "    }\n",
              "\n",
              "    .colab-df-convert {\n",
              "      background-color: #E8F0FE;\n",
              "      border: none;\n",
              "      border-radius: 50%;\n",
              "      cursor: pointer;\n",
              "      display: none;\n",
              "      fill: #1967D2;\n",
              "      height: 32px;\n",
              "      padding: 0 0 0 0;\n",
              "      width: 32px;\n",
              "    }\n",
              "\n",
              "    .colab-df-convert:hover {\n",
              "      background-color: #E2EBFA;\n",
              "      box-shadow: 0px 1px 2px rgba(60, 64, 67, 0.3), 0px 1px 3px 1px rgba(60, 64, 67, 0.15);\n",
              "      fill: #174EA6;\n",
              "    }\n",
              "\n",
              "    .colab-df-buttons div {\n",
              "      margin-bottom: 4px;\n",
              "    }\n",
              "\n",
              "    [theme=dark] .colab-df-convert {\n",
              "      background-color: #3B4455;\n",
              "      fill: #D2E3FC;\n",
              "    }\n",
              "\n",
              "    [theme=dark] .colab-df-convert:hover {\n",
              "      background-color: #434B5C;\n",
              "      box-shadow: 0px 1px 3px 1px rgba(0, 0, 0, 0.15);\n",
              "      filter: drop-shadow(0px 1px 2px rgba(0, 0, 0, 0.3));\n",
              "      fill: #FFFFFF;\n",
              "    }\n",
              "  </style>\n",
              "\n",
              "    <script>\n",
              "      const buttonEl =\n",
              "        document.querySelector('#df-173f13b4-b4f9-4050-8411-7192cbe44c4e button.colab-df-convert');\n",
              "      buttonEl.style.display =\n",
              "        google.colab.kernel.accessAllowed ? 'block' : 'none';\n",
              "\n",
              "      async function convertToInteractive(key) {\n",
              "        const element = document.querySelector('#df-173f13b4-b4f9-4050-8411-7192cbe44c4e');\n",
              "        const dataTable =\n",
              "          await google.colab.kernel.invokeFunction('convertToInteractive',\n",
              "                                                    [key], {});\n",
              "        if (!dataTable) return;\n",
              "\n",
              "        const docLinkHtml = 'Like what you see? Visit the ' +\n",
              "          '<a target=\"_blank\" href=https://colab.research.google.com/notebooks/data_table.ipynb>data table notebook</a>'\n",
              "          + ' to learn more about interactive tables.';\n",
              "        element.innerHTML = '';\n",
              "        dataTable['output_type'] = 'display_data';\n",
              "        await google.colab.output.renderOutput(dataTable, element);\n",
              "        const docLink = document.createElement('div');\n",
              "        docLink.innerHTML = docLinkHtml;\n",
              "        element.appendChild(docLink);\n",
              "      }\n",
              "    </script>\n",
              "  </div>\n",
              "\n",
              "\n",
              "<div id=\"df-a1a47bd3-6a96-4771-b41a-cc6d6c804be2\">\n",
              "  <button class=\"colab-df-quickchart\" onclick=\"quickchart('df-a1a47bd3-6a96-4771-b41a-cc6d6c804be2')\"\n",
              "            title=\"Suggest charts\"\n",
              "            style=\"display:none;\">\n",
              "\n",
              "<svg xmlns=\"http://www.w3.org/2000/svg\" height=\"24px\"viewBox=\"0 0 24 24\"\n",
              "     width=\"24px\">\n",
              "    <g>\n",
              "        <path d=\"M19 3H5c-1.1 0-2 .9-2 2v14c0 1.1.9 2 2 2h14c1.1 0 2-.9 2-2V5c0-1.1-.9-2-2-2zM9 17H7v-7h2v7zm4 0h-2V7h2v10zm4 0h-2v-4h2v4z\"/>\n",
              "    </g>\n",
              "</svg>\n",
              "  </button>\n",
              "\n",
              "<style>\n",
              "  .colab-df-quickchart {\n",
              "      --bg-color: #E8F0FE;\n",
              "      --fill-color: #1967D2;\n",
              "      --hover-bg-color: #E2EBFA;\n",
              "      --hover-fill-color: #174EA6;\n",
              "      --disabled-fill-color: #AAA;\n",
              "      --disabled-bg-color: #DDD;\n",
              "  }\n",
              "\n",
              "  [theme=dark] .colab-df-quickchart {\n",
              "      --bg-color: #3B4455;\n",
              "      --fill-color: #D2E3FC;\n",
              "      --hover-bg-color: #434B5C;\n",
              "      --hover-fill-color: #FFFFFF;\n",
              "      --disabled-bg-color: #3B4455;\n",
              "      --disabled-fill-color: #666;\n",
              "  }\n",
              "\n",
              "  .colab-df-quickchart {\n",
              "    background-color: var(--bg-color);\n",
              "    border: none;\n",
              "    border-radius: 50%;\n",
              "    cursor: pointer;\n",
              "    display: none;\n",
              "    fill: var(--fill-color);\n",
              "    height: 32px;\n",
              "    padding: 0;\n",
              "    width: 32px;\n",
              "  }\n",
              "\n",
              "  .colab-df-quickchart:hover {\n",
              "    background-color: var(--hover-bg-color);\n",
              "    box-shadow: 0 1px 2px rgba(60, 64, 67, 0.3), 0 1px 3px 1px rgba(60, 64, 67, 0.15);\n",
              "    fill: var(--button-hover-fill-color);\n",
              "  }\n",
              "\n",
              "  .colab-df-quickchart-complete:disabled,\n",
              "  .colab-df-quickchart-complete:disabled:hover {\n",
              "    background-color: var(--disabled-bg-color);\n",
              "    fill: var(--disabled-fill-color);\n",
              "    box-shadow: none;\n",
              "  }\n",
              "\n",
              "  .colab-df-spinner {\n",
              "    border: 2px solid var(--fill-color);\n",
              "    border-color: transparent;\n",
              "    border-bottom-color: var(--fill-color);\n",
              "    animation:\n",
              "      spin 1s steps(1) infinite;\n",
              "  }\n",
              "\n",
              "  @keyframes spin {\n",
              "    0% {\n",
              "      border-color: transparent;\n",
              "      border-bottom-color: var(--fill-color);\n",
              "      border-left-color: var(--fill-color);\n",
              "    }\n",
              "    20% {\n",
              "      border-color: transparent;\n",
              "      border-left-color: var(--fill-color);\n",
              "      border-top-color: var(--fill-color);\n",
              "    }\n",
              "    30% {\n",
              "      border-color: transparent;\n",
              "      border-left-color: var(--fill-color);\n",
              "      border-top-color: var(--fill-color);\n",
              "      border-right-color: var(--fill-color);\n",
              "    }\n",
              "    40% {\n",
              "      border-color: transparent;\n",
              "      border-right-color: var(--fill-color);\n",
              "      border-top-color: var(--fill-color);\n",
              "    }\n",
              "    60% {\n",
              "      border-color: transparent;\n",
              "      border-right-color: var(--fill-color);\n",
              "    }\n",
              "    80% {\n",
              "      border-color: transparent;\n",
              "      border-right-color: var(--fill-color);\n",
              "      border-bottom-color: var(--fill-color);\n",
              "    }\n",
              "    90% {\n",
              "      border-color: transparent;\n",
              "      border-bottom-color: var(--fill-color);\n",
              "    }\n",
              "  }\n",
              "</style>\n",
              "\n",
              "  <script>\n",
              "    async function quickchart(key) {\n",
              "      const quickchartButtonEl =\n",
              "        document.querySelector('#' + key + ' button');\n",
              "      quickchartButtonEl.disabled = true;  // To prevent multiple clicks.\n",
              "      quickchartButtonEl.classList.add('colab-df-spinner');\n",
              "      try {\n",
              "        const charts = await google.colab.kernel.invokeFunction(\n",
              "            'suggestCharts', [key], {});\n",
              "      } catch (error) {\n",
              "        console.error('Error during call to suggestCharts:', error);\n",
              "      }\n",
              "      quickchartButtonEl.classList.remove('colab-df-spinner');\n",
              "      quickchartButtonEl.classList.add('colab-df-quickchart-complete');\n",
              "    }\n",
              "    (() => {\n",
              "      let quickchartButtonEl =\n",
              "        document.querySelector('#df-a1a47bd3-6a96-4771-b41a-cc6d6c804be2 button');\n",
              "      quickchartButtonEl.style.display =\n",
              "        google.colab.kernel.accessAllowed ? 'block' : 'none';\n",
              "    })();\n",
              "  </script>\n",
              "</div>\n",
              "\n",
              "  <div id=\"id_79911ec6-28d4-4b55-b9b4-9167eb3ab635\">\n",
              "    <style>\n",
              "      .colab-df-generate {\n",
              "        background-color: #E8F0FE;\n",
              "        border: none;\n",
              "        border-radius: 50%;\n",
              "        cursor: pointer;\n",
              "        display: none;\n",
              "        fill: #1967D2;\n",
              "        height: 32px;\n",
              "        padding: 0 0 0 0;\n",
              "        width: 32px;\n",
              "      }\n",
              "\n",
              "      .colab-df-generate:hover {\n",
              "        background-color: #E2EBFA;\n",
              "        box-shadow: 0px 1px 2px rgba(60, 64, 67, 0.3), 0px 1px 3px 1px rgba(60, 64, 67, 0.15);\n",
              "        fill: #174EA6;\n",
              "      }\n",
              "\n",
              "      [theme=dark] .colab-df-generate {\n",
              "        background-color: #3B4455;\n",
              "        fill: #D2E3FC;\n",
              "      }\n",
              "\n",
              "      [theme=dark] .colab-df-generate:hover {\n",
              "        background-color: #434B5C;\n",
              "        box-shadow: 0px 1px 3px 1px rgba(0, 0, 0, 0.15);\n",
              "        filter: drop-shadow(0px 1px 2px rgba(0, 0, 0, 0.3));\n",
              "        fill: #FFFFFF;\n",
              "      }\n",
              "    </style>\n",
              "    <button class=\"colab-df-generate\" onclick=\"generateWithVariable('brazilian_gol_counts')\"\n",
              "            title=\"Generate code using this dataframe.\"\n",
              "            style=\"display:none;\">\n",
              "\n",
              "  <svg xmlns=\"http://www.w3.org/2000/svg\" height=\"24px\"viewBox=\"0 0 24 24\"\n",
              "       width=\"24px\">\n",
              "    <path d=\"M7,19H8.4L18.45,9,17,7.55,7,17.6ZM5,21V16.75L18.45,3.32a2,2,0,0,1,2.83,0l1.4,1.43a1.91,1.91,0,0,1,.58,1.4,1.91,1.91,0,0,1-.58,1.4L9.25,21ZM18.45,9,17,7.55Zm-12,3A5.31,5.31,0,0,0,4.9,8.1,5.31,5.31,0,0,0,1,6.5,5.31,5.31,0,0,0,4.9,4.9,5.31,5.31,0,0,0,6.5,1,5.31,5.31,0,0,0,8.1,4.9,5.31,5.31,0,0,0,12,6.5,5.46,5.46,0,0,0,6.5,12Z\"/>\n",
              "  </svg>\n",
              "    </button>\n",
              "    <script>\n",
              "      (() => {\n",
              "      const buttonEl =\n",
              "        document.querySelector('#id_79911ec6-28d4-4b55-b9b4-9167eb3ab635 button.colab-df-generate');\n",
              "      buttonEl.style.display =\n",
              "        google.colab.kernel.accessAllowed ? 'block' : 'none';\n",
              "\n",
              "      buttonEl.onclick = () => {\n",
              "        google.colab.notebook.generateWithVariable('brazilian_gol_counts');\n",
              "      }\n",
              "      })();\n",
              "    </script>\n",
              "  </div>\n",
              "\n",
              "    </div>\n",
              "  </div>\n"
            ],
            "application/vnd.google.colaboratory.intrinsic+json": {
              "type": "dataframe",
              "variable_name": "brazilian_gol_counts",
              "summary": "{\n  \"name\": \"brazilian_gol_counts\",\n  \"rows\": 20,\n  \"fields\": [\n    {\n      \"column\": \"Player Name\",\n      \"properties\": {\n        \"dtype\": \"category\",\n        \"num_unique_values\": 5,\n        \"samples\": [\n          \"NEYMAR JR\",\n          \"ZICO\",\n          \"RIVALDO\"\n        ],\n        \"semantic_type\": \"\",\n        \"description\": \"\"\n      }\n    },\n    {\n      \"column\": \"Year\",\n      \"properties\": {\n        \"dtype\": \"number\",\n        \"std\": 1286034,\n        \"min\": 1933,\n        \"max\": 3003795,\n        \"num_unique_values\": 15,\n        \"samples\": [\n          3003041,\n          1934,\n          976030\n        ],\n        \"semantic_type\": \"\",\n        \"description\": \"\"\n      }\n    },\n    {\n      \"column\": \"Goals\",\n      \"properties\": {\n        \"dtype\": \"number\",\n        \"std\": 2,\n        \"min\": 1,\n        \"max\": 8,\n        \"num_unique_values\": 7,\n        \"samples\": [\n          7,\n          8,\n          5\n        ],\n        \"semantic_type\": \"\",\n        \"description\": \"\"\n      }\n    }\n  ]\n}"
            }
          },
          "metadata": {},
          "execution_count": 32
        }
      ]
    },
    {
      "cell_type": "markdown",
      "source": [
        "c. Apresente um gráfico que mostra a variação de público ao longo das copas. Qual foi o comportamento observado?"
      ],
      "metadata": {
        "id": "ylKM_Vo9LYfg"
      }
    },
    {
      "cell_type": "code",
      "source": [
        "plt.figure(figsize=(10, 6))\n",
        "sns.lineplot(data=world_cups, x='Year', y='Attendance')\n",
        "plt.title('Variação de Público ao Longo das Copas')\n",
        "plt.xlabel('Ano')\n",
        "plt.ylabel('Público Total')\n",
        "plt.show()"
      ],
      "metadata": {
        "colab": {
          "base_uri": "https://localhost:8080/",
          "height": 565
        },
        "id": "GUhI-6foKzyp",
        "outputId": "6a6792f7-6898-47d0-cc09-42ff798ab124"
      },
      "execution_count": null,
      "outputs": [
        {
          "output_type": "display_data",
          "data": {
            "text/plain": [
              "<Figure size 1000x600 with 1 Axes>"
            ],
            "image/png": "[encoded data removed]"
          },
          "metadata": {}
        }
      ]
    },
    {
      "cell_type": "markdown",
      "source": [
        "d. Apresente gráfico que apresenta o comportamento do número de cartões vermelhos e amarelos ao longo das copas. Qual foi o comportamento observado?"
      ],
      "metadata": {
        "id": "06dP6IdANZkq"
      }
    },
    {
      "cell_type": "code",
      "source": [
        "#Devido a complexidade, não consegui pegar os dados do campo \"Event\"\n",
        "# Combinando os dados de partidas e jogadores\n",
        "merged_data = pd.merge(world_cup_matches, world_cup_players, on='MatchID')\n",
        "\n",
        "# Agrupando por ano e contando os cartões\n",
        "card_data = merged_data.groupby('Year')['YellowCards', 'RedCards'].sum().reset_index()\n",
        "\n",
        "# Criando o gráfico\n",
        "plt.figure(figsize=(12, 6))\n",
        "sns.lineplot(data=card_data, x='Year', y='YellowCards', label='Cartões Amarelos')\n",
        "sns.lineplot(data=card_data, x='Year', y='RedCards', label='Cartões Vermelhos')\n",
        "plt.title('Evolução do Número de Cartões nas Copas do Mundo')\n",
        "plt.xlabel('Ano')\n",
        "plt.ylabel('Número de Cartões')\n",
        "plt.legend()\n",
        "plt.show()"
      ],
      "metadata": {
        "id": "8vYo2vVyymdX"
      },
      "execution_count": null,
      "outputs": []
    },
    {
      "cell_type": "markdown",
      "source": [
        "e. Apresente gráfico que mostra o número de gols marcados ao longo das copas. Qual foi o comportamento observado?"
      ],
      "metadata": {
        "id": "aIbRjBVNRw8X"
      }
    },
    {
      "cell_type": "code",
      "source": [
        "plt.figure(figsize=(10, 6))\n",
        "sns.lineplot(data=world_cups, x='Year', y='GoalsScored')\n",
        "plt.title('Número de Gols Marcados ao Longo das Copas')\n",
        "plt.xlabel('Ano')\n",
        "plt.ylabel('Total de Gols')\n",
        "plt.show()"
      ],
      "metadata": {
        "colab": {
          "base_uri": "https://localhost:8080/",
          "height": 565
        },
        "id": "G1taKBnRR1pJ",
        "outputId": "27acb218-b858-40f0-84a7-87100eaf0988"
      },
      "execution_count": null,
      "outputs": [
        {
          "output_type": "display_data",
          "data": {
            "text/plain": [
              "<Figure size 1000x600 with 1 Axes>"
            ],
            "image/png": "[encoded data removed]"
          },
          "metadata": {}
        }
      ]
    },
    {
      "cell_type": "markdown",
      "source": [
        "f. Entre as equipes mais ofensivas (que marcaram mais gols ao longo da história) quais tendem a fazer mais gols dentro ou fora de casa? Quais foram as 3 equipes mais ofensivas?"
      ],
      "metadata": {
        "id": "NMozP6iYSHRc"
      }
    },
    {
      "cell_type": "code",
      "source": [
        "\n",
        "# Gols das equipes jogando em casa\n",
        "home_goals = world_cup_matches.groupby('Home Team Name')['Home Team Goals'].sum().reset_index()\n",
        "home_goals.columns = ['Team', 'Home Goals']\n",
        "\n",
        "# Gols das equipes jogando fora\n",
        "away_goals = world_cup_matches.groupby('Away Team Name')['Away Team Goals'].sum().reset_index()\n",
        "away_goals.columns = ['Team', 'Away Goals']\n",
        "\n",
        "# Combinar os gols em casa e fora para obter o total de gols por equipe\n",
        "total_goals = pd.merge(home_goals, away_goals, on='Team', how='outer').fillna(0)\n",
        "total_goals['Total Goals'] = total_goals['Home Goals'] + total_goals['Away Goals']\n",
        "\n",
        "# Ordenar as equipes por número total de gols e selecionar as 3 mais ofensivas\n",
        "top_offensive_teams = total_goals.sort_values(by='Total Goals', ascending=False).head(3)\n",
        "\n",
        "# Verificar onde elas marcam mais gols (em casa ou fora)\n",
        "top_offensive_teams['More Goals At'] = top_offensive_teams.apply(lambda x: 'Home' if x['Home Goals'] > x['Away Goals'] else 'Away', axis=1)\n",
        "\n",
        "# Exibir o resultado\n",
        "print(top_offensive_teams[['Team', 'Home Goals', 'Away Goals', 'Total Goals', 'More Goals At']])\n"
      ],
      "metadata": {
        "colab": {
          "base_uri": "https://localhost:8080/"
        },
        "id": "z_uNYKqQSKC1",
        "outputId": "6103a698-3e5e-4300-e42f-409f5f43762c"
      },
      "execution_count": null,
      "outputs": [
        {
          "output_type": "stream",
          "name": "stdout",
          "text": [
            "          Team  Home Goals  Away Goals  Total Goals More Goals At\n",
            "7       Brazil       180.0        45.0        225.0          Home\n",
            "2    Argentina       111.0        22.0        133.0          Home\n",
            "29  Germany FR        99.0        32.0        131.0          Home\n"
          ]
        }
      ]
    },
    {
      "cell_type": "markdown",
      "source": [
        "g. Identifique as nações emergentes no futebol (que surgiram no campeonato nos últimos 20 anos), apresente suas médias de gols e indique as 5 primeiras segundo a média."
      ],
      "metadata": {
        "id": "6aM3iLVyTMaU"
      }
    },
    {
      "cell_type": "code",
      "source": [
        "# Filtrar os jogos dos últimos 20 anos\n",
        "recent_matches = world_cup_matches[world_cup_matches['Year'] >= 1994]\n",
        "\n",
        "# Encontrar as equipes que apareceram pela primeira vez nos últimos 20 anos\n",
        "# Criar uma lista de todas as equipes participantes ao longo dos anos\n",
        "all_teams = set(world_cup_matches['Home Team Name'].unique()).union(set(world_cup_matches['Away Team Name'].unique()))\n",
        "\n",
        "# Identificar as equipes presentes nos últimos 20 anos\n",
        "recent_teams = set(recent_matches['Home Team Name'].unique()).union(set(recent_matches['Away Team Name'].unique()))\n",
        "\n",
        "# Nações emergentes: equipes que só aparecem nos últimos 20 anos\n",
        "emerging_nations = recent_teams - all_teams\n",
        "\n",
        "# Calcular a média de gols das nações emergentes\n",
        "emerging_goals = []\n",
        "\n",
        "for team in emerging_nations:\n",
        "    home_goals = recent_matches[recent_matches['Home Team Name'] == team]['Home Team Goals'].sum()\n",
        "    away_goals = recent_matches[recent_matches['Away Team Name'] == team]['Away Team Goals'].sum()\n",
        "    total_matches = len(recent_matches[(recent_matches['Home Team Name'] == team) | (recent_matches['Away Team Name'] == team)])\n",
        "\n",
        "    if total_matches > 0:\n",
        "        avg_goals = (home_goals + away_goals) / total_matches\n",
        "        emerging_goals.append({'Team': team, 'Avg Goals': avg_goals})\n",
        "\n",
        "# Verificar se emerging_goals está vazio antes de criar o DataFrame\n",
        "if emerging_goals:\n",
        "    # Converter para DataFrame e classificar as 5 principais nações emergentes\n",
        "    emerging_df = pd.DataFrame(emerging_goals)\n",
        "    top_5_emerging = emerging_df.sort_values(by='Avg Goals', ascending=False).head(5)\n",
        "\n",
        "    print(top_5_emerging)\n",
        "else:\n",
        "    print(\"Parece que não tem nenhuma nação emergente que surgiu nos ultimos 20 anos.\")"
      ],
      "metadata": {
        "colab": {
          "base_uri": "https://localhost:8080/"
        },
        "id": "aWmpg3TFTO8V",
        "outputId": "87114e61-f551-4167-adee-e3cc7405318b"
      },
      "execution_count": null,
      "outputs": [
        {
          "output_type": "stream",
          "name": "stdout",
          "text": [
            "Parece que não tem nenhuma nação emergente que surgiu nos ultimos 20 anos.\n"
          ]
        }
      ]
    },
    {
      "cell_type": "markdown",
      "source": [],
      "metadata": {
        "id": "G3Ht-pXW6jz2"
      }
    }
  ]
}